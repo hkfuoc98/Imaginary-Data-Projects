{
 "cells": [
  {
   "cell_type": "code",
   "execution_count": 1,
   "id": "7cdafd1b",
   "metadata": {},
   "outputs": [],
   "source": [
    "import numpy as np\n",
    "import pandas as pd\n",
    "import re\n",
    "from datetime import datetime as dt"
   ]
  },
  {
   "cell_type": "code",
   "execution_count": 2,
   "id": "40fd0a55",
   "metadata": {},
   "outputs": [
    {
     "data": {
      "text/html": [
       "<div>\n",
       "<style scoped>\n",
       "    .dataframe tbody tr th:only-of-type {\n",
       "        vertical-align: middle;\n",
       "    }\n",
       "\n",
       "    .dataframe tbody tr th {\n",
       "        vertical-align: top;\n",
       "    }\n",
       "\n",
       "    .dataframe thead th {\n",
       "        text-align: right;\n",
       "    }\n",
       "</style>\n",
       "<table border=\"1\" class=\"dataframe\">\n",
       "  <thead>\n",
       "    <tr style=\"text-align: right;\">\n",
       "      <th></th>\n",
       "      <th>order number</th>\n",
       "      <th>time</th>\n",
       "      <th>event</th>\n",
       "    </tr>\n",
       "  </thead>\n",
       "  <tbody>\n",
       "    <tr>\n",
       "      <th>0</th>\n",
       "      <td>#1</td>\n",
       "      <td>2022-07-14 14:41:00+00:00</td>\n",
       "      <td>Giao hàng thành công. Người nhận hàng: XXXXX</td>\n",
       "    </tr>\n",
       "    <tr>\n",
       "      <th>1</th>\n",
       "      <td>#1</td>\n",
       "      <td>2022-07-14 14:35:00+00:00</td>\n",
       "      <td>Đang giao hàng</td>\n",
       "    </tr>\n",
       "    <tr>\n",
       "      <th>2</th>\n",
       "      <td>#1</td>\n",
       "      <td>2022-07-14 12:39:00+00:00</td>\n",
       "      <td>Giao hàng không thành công vì Người nhận hẹn l...</td>\n",
       "    </tr>\n",
       "    <tr>\n",
       "      <th>3</th>\n",
       "      <td>#1</td>\n",
       "      <td>2022-07-14 08:57:00+00:00</td>\n",
       "      <td>Đang giao hàng</td>\n",
       "    </tr>\n",
       "    <tr>\n",
       "      <th>4</th>\n",
       "      <td>#1</td>\n",
       "      <td>2022-07-14 05:23:00+00:00</td>\n",
       "      <td>Đơn hàng đã đến kho 50-HCM Quan 10/Phuong 15 L...</td>\n",
       "    </tr>\n",
       "  </tbody>\n",
       "</table>\n",
       "</div>"
      ],
      "text/plain": [
       "  order number                      time  \\\n",
       "0           #1 2022-07-14 14:41:00+00:00   \n",
       "1           #1 2022-07-14 14:35:00+00:00   \n",
       "2           #1 2022-07-14 12:39:00+00:00   \n",
       "3           #1 2022-07-14 08:57:00+00:00   \n",
       "4           #1 2022-07-14 05:23:00+00:00   \n",
       "\n",
       "                                               event  \n",
       "0       Giao hàng thành công. Người nhận hàng: XXXXX  \n",
       "1                                     Đang giao hàng  \n",
       "2  Giao hàng không thành công vì Người nhận hẹn l...  \n",
       "3                                     Đang giao hàng  \n",
       "4  Đơn hàng đã đến kho 50-HCM Quan 10/Phuong 15 L...  "
      ]
     },
     "execution_count": 2,
     "metadata": {},
     "output_type": "execute_result"
    }
   ],
   "source": [
    "url = 'https://raw.githubusercontent.com/hkfuoc98/Imaginary-Data-Projects/master/Case%20Ecommerce%20Logistics.csv'\n",
    "df = pd.read_csv(url)\n",
    "df['time'] = pd.to_datetime(df['time'],dayfirst = True,utc=True)\n",
    "df.head()"
   ]
  },
  {
   "cell_type": "code",
   "execution_count": 63,
   "id": "1b39f783",
   "metadata": {},
   "outputs": [
    {
     "data": {
      "text/plain": [
       "'mean of 1st time: 0 days 20:35:00 and median of 1st time: 0 days 17:46:00'"
      ]
     },
     "execution_count": 63,
     "metadata": {},
     "output_type": "execute_result"
    }
   ],
   "source": [
    "def return_mean_med_1st_delivery(df,startstring,deliverstring):\n",
    "    start = df[df['event']==startstring].loc[:,['order number','time']].set_index('order number')\n",
    "    \n",
    "    first_delivery = df[df['event'].str.startswith(deliverstring)].loc[:,['order number','time']]\n",
    "    first_delivery.rename(columns = {'order number':'order number','time':'first delivery'},inplace = True)\n",
    "    first_delivery = first_delivery.groupby(by=['order number'])['first delivery'].min()\n",
    "    \n",
    "    to_first_deli = start.join(first_delivery)\n",
    "    to_first_deli['hrs taken']=to_first_deli['first delivery']-to_first_deli['time']\n",
    "    mean = to_first_deli['hrs taken'].mean()\n",
    "    med = to_first_deli['hrs taken'].median()\n",
    "    return 'mean of 1st time: '+ str(mean) + ' and median of 1st time: '+ str(med)\n",
    "\n",
    "return_mean_med_1st_delivery(df,'Đơn hàng đã đến kho Cu Chi SOC','Giao hàng')"
   ]
  },
  {
   "cell_type": "code",
   "execution_count": 60,
   "id": "78dc8412",
   "metadata": {},
   "outputs": [
    {
     "data": {
      "text/plain": [
       "'mean of 1st time: 0 days 20:35:00 and median of 1st time: 0 days 17:46:00'"
      ]
     },
     "execution_count": 60,
     "metadata": {},
     "output_type": "execute_result"
    }
   ],
   "source": []
  },
  {
   "cell_type": "code",
   "execution_count": 67,
   "id": "4d6e4a1f",
   "metadata": {},
   "outputs": [
    {
     "data": {
      "text/plain": [
       "array(['#3', '#4'], dtype=object)"
      ]
     },
     "execution_count": 67,
     "metadata": {},
     "output_type": "execute_result"
    }
   ],
   "source": [
    "def return_order_not_effective(df,wantedhub):\n",
    "    # Lọc các đơn không thông qua hub: 50-HCM Quan 10/Phuong 15 LM Hub\n",
    "    effective = df[df['event'].str.contains(wantedhub)].set_index('order number')\n",
    "    noteffective = df[~df['order number'].isin(effective.index)]\n",
    "    return pd.unique(noteffective['order number'])\n",
    "return_order_not_effective(df,'50-HCM Quan 10/Phuong 15 LM Hub')"
   ]
  },
  {
   "cell_type": "code",
   "execution_count": null,
   "id": "767304fd",
   "metadata": {},
   "outputs": [],
   "source": []
  }
 ],
 "metadata": {
  "kernelspec": {
   "display_name": "Python 3 (ipykernel)",
   "language": "python",
   "name": "python3"
  },
  "language_info": {
   "codemirror_mode": {
    "name": "ipython",
    "version": 3
   },
   "file_extension": ".py",
   "mimetype": "text/x-python",
   "name": "python",
   "nbconvert_exporter": "python",
   "pygments_lexer": "ipython3",
   "version": "3.9.12"
  }
 },
 "nbformat": 4,
 "nbformat_minor": 5
}
